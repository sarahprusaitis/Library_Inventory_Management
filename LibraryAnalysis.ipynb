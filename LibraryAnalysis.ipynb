{
 "cells": [
  {
   "cell_type": "markdown",
   "metadata": {},
   "source": [
    "add photo here - maybe of books? or a library card? "
   ]
  },
  {
   "cell_type": "markdown",
   "metadata": {},
   "source": [
    "# A Data-driven Approach for Library Inventory ?? idk if i like this\n",
    "### Author: Sarah Prusaitis"
   ]
  },
  {
   "cell_type": "markdown",
   "metadata": {},
   "source": [
    "## Project Overview\n",
    "\n",
    "This project aims to enhance inventory management at the Seattle Public Library by leveraging historical checkout data of both physical and digital books. By analyzing trends and patterns in the dataset spanning 2022-2023, the project seeks to provide actionable recommendations for optimizing the library's collection. Through predictive modeling, it aims to forecast future demand for various titles, enabling the library to better allocate resources and meet the needs of its patrons efficiently."
   ]
  },
  {
   "cell_type": "markdown",
   "metadata": {},
   "source": [
    "## Business Understanding\n",
    "\n",
    "The primary objective of this project is to assist the Seattle Public Library in optimizing its inventory management system. By analyzing historical checkout data, the project aims to address the challenge of efficiently allocating resources for physical and digital book collections. The library's stakeholders seek insights into trends and preferences among its patrons to anticipate future demand accurately. Through predictive analytics, the project will deliver actionable recommendations to XYZ ( still deciding )"
   ]
  },
  {
   "cell_type": "markdown",
   "metadata": {},
   "source": [
    "## Data Understanding\n",
    "\n",
    "The dataset provided by The Seattle Public Library comprises 5.21 million rows and 12 columns, documenting the checkout records of both physical and electronic items over the years 2022 and 2023. Each row represents the number of checkouts for a specific title in a given month of the year. With this rich dataset, the project endeavors to understand the borrowing patterns of library users and identify key factors influencing the demand for books in both formats."
   ]
  },
  {
   "cell_type": "code",
   "execution_count": 1,
   "metadata": {},
   "outputs": [],
   "source": [
    "#import needed packages\n",
    "\n",
    "import pandas as pd\n",
    "import numpy as np\n",
    "import matplotlib.pyplot as plt\n",
    "import seaborn as sns\n",
    "import re"
   ]
  },
  {
   "cell_type": "code",
   "execution_count": 2,
   "metadata": {},
   "outputs": [],
   "source": [
    "pd.set_option('display.max_colwidth', 1000)"
   ]
  },
  {
   "cell_type": "code",
   "execution_count": 3,
   "metadata": {
    "scrolled": true
   },
   "outputs": [
    {
     "data": {
      "text/html": [
       "<div>\n",
       "<style scoped>\n",
       "    .dataframe tbody tr th:only-of-type {\n",
       "        vertical-align: middle;\n",
       "    }\n",
       "\n",
       "    .dataframe tbody tr th {\n",
       "        vertical-align: top;\n",
       "    }\n",
       "\n",
       "    .dataframe thead th {\n",
       "        text-align: right;\n",
       "    }\n",
       "</style>\n",
       "<table border=\"1\" class=\"dataframe\">\n",
       "  <thead>\n",
       "    <tr style=\"text-align: right;\">\n",
       "      <th></th>\n",
       "      <th>UsageClass</th>\n",
       "      <th>CheckoutType</th>\n",
       "      <th>MaterialType</th>\n",
       "      <th>CheckoutYear</th>\n",
       "      <th>CheckoutMonth</th>\n",
       "      <th>Checkouts</th>\n",
       "      <th>Title</th>\n",
       "      <th>ISBN</th>\n",
       "      <th>Creator</th>\n",
       "      <th>Subjects</th>\n",
       "      <th>Publisher</th>\n",
       "      <th>PublicationYear</th>\n",
       "    </tr>\n",
       "  </thead>\n",
       "  <tbody>\n",
       "    <tr>\n",
       "      <th>0</th>\n",
       "      <td>Physical</td>\n",
       "      <td>Horizon</td>\n",
       "      <td>BOOK</td>\n",
       "      <td>2022</td>\n",
       "      <td>9</td>\n",
       "      <td>6</td>\n",
       "      <td>Great day for up! Pictures by Quentin Blake.</td>\n",
       "      <td>0394829131, 0394929136</td>\n",
       "      <td>Seuss, Dr.</td>\n",
       "      <td>Stories in rhyme</td>\n",
       "      <td>Beginner Books,</td>\n",
       "      <td>[1974]</td>\n",
       "    </tr>\n",
       "    <tr>\n",
       "      <th>1</th>\n",
       "      <td>Digital</td>\n",
       "      <td>OverDrive</td>\n",
       "      <td>AUDIOBOOK</td>\n",
       "      <td>2022</td>\n",
       "      <td>9</td>\n",
       "      <td>1</td>\n",
       "      <td>The Scientist and the Spy: A True Story of China, the FBI, and Industrial Espionage (unabridged)</td>\n",
       "      <td>9780593166819</td>\n",
       "      <td>Mara Hvistendahl</td>\n",
       "      <td>Business, Politics, True Crime, Nonfiction</td>\n",
       "      <td>Books on Tape</td>\n",
       "      <td>2020</td>\n",
       "    </tr>\n",
       "    <tr>\n",
       "      <th>2</th>\n",
       "      <td>Digital</td>\n",
       "      <td>OverDrive</td>\n",
       "      <td>EBOOK</td>\n",
       "      <td>2022</td>\n",
       "      <td>9</td>\n",
       "      <td>3</td>\n",
       "      <td>The Flame and the Flower</td>\n",
       "      <td>9780061743696</td>\n",
       "      <td>Kathleen E. Woodiwiss</td>\n",
       "      <td>Fiction, Romance, Historical Fiction</td>\n",
       "      <td>HarperCollins Publishers Inc.</td>\n",
       "      <td>2006</td>\n",
       "    </tr>\n",
       "    <tr>\n",
       "      <th>3</th>\n",
       "      <td>Digital</td>\n",
       "      <td>OverDrive</td>\n",
       "      <td>EBOOK</td>\n",
       "      <td>2022</td>\n",
       "      <td>9</td>\n",
       "      <td>8</td>\n",
       "      <td>Fifty Words for Rain: A Novel</td>\n",
       "      <td>9781524746377</td>\n",
       "      <td>Asha Lemmie</td>\n",
       "      <td>Fiction, Literature, Historical Fiction</td>\n",
       "      <td>Penguin Group (USA), Inc.</td>\n",
       "      <td>2020</td>\n",
       "    </tr>\n",
       "    <tr>\n",
       "      <th>4</th>\n",
       "      <td>Physical</td>\n",
       "      <td>Horizon</td>\n",
       "      <td>BOOK</td>\n",
       "      <td>2022</td>\n",
       "      <td>9</td>\n",
       "      <td>5</td>\n",
       "      <td>How to code a rollercoaster / by Josh Funk ; illustrated by Sara Palacios ; foreword by Reshma Saujani.</td>\n",
       "      <td>0425292037, 9780425292037</td>\n",
       "      <td>Funk, Josh</td>\n",
       "      <td>Amusement parks Juvenile fiction, Computer programming Juvenile fiction, Robots Juvenile fiction</td>\n",
       "      <td>Viking,</td>\n",
       "      <td>[2019]</td>\n",
       "    </tr>\n",
       "  </tbody>\n",
       "</table>\n",
       "</div>"
      ],
      "text/plain": [
       "  UsageClass CheckoutType MaterialType  CheckoutYear  CheckoutMonth Checkouts  \\\n",
       "0   Physical      Horizon         BOOK          2022              9         6   \n",
       "1    Digital    OverDrive    AUDIOBOOK          2022              9         1   \n",
       "2    Digital    OverDrive        EBOOK          2022              9         3   \n",
       "3    Digital    OverDrive        EBOOK          2022              9         8   \n",
       "4   Physical      Horizon         BOOK          2022              9         5   \n",
       "\n",
       "                                                                                                     Title  \\\n",
       "0                                                             Great day for up! Pictures by Quentin Blake.   \n",
       "1         The Scientist and the Spy: A True Story of China, the FBI, and Industrial Espionage (unabridged)   \n",
       "2                                                                                 The Flame and the Flower   \n",
       "3                                                                            Fifty Words for Rain: A Novel   \n",
       "4  How to code a rollercoaster / by Josh Funk ; illustrated by Sara Palacios ; foreword by Reshma Saujani.   \n",
       "\n",
       "                        ISBN                Creator  \\\n",
       "0     0394829131, 0394929136             Seuss, Dr.   \n",
       "1              9780593166819       Mara Hvistendahl   \n",
       "2              9780061743696  Kathleen E. Woodiwiss   \n",
       "3              9781524746377            Asha Lemmie   \n",
       "4  0425292037, 9780425292037             Funk, Josh   \n",
       "\n",
       "                                                                                           Subjects  \\\n",
       "0                                                                                  Stories in rhyme   \n",
       "1                                                        Business, Politics, True Crime, Nonfiction   \n",
       "2                                                              Fiction, Romance, Historical Fiction   \n",
       "3                                                           Fiction, Literature, Historical Fiction   \n",
       "4  Amusement parks Juvenile fiction, Computer programming Juvenile fiction, Robots Juvenile fiction   \n",
       "\n",
       "                       Publisher PublicationYear  \n",
       "0                Beginner Books,          [1974]  \n",
       "1                  Books on Tape            2020  \n",
       "2  HarperCollins Publishers Inc.            2006  \n",
       "3      Penguin Group (USA), Inc.            2020  \n",
       "4                        Viking,          [2019]  "
      ]
     },
     "execution_count": 3,
     "metadata": {},
     "output_type": "execute_result"
    }
   ],
   "source": [
    "# Reading in data and looking at head\n",
    "\n",
    "df = pd.read_csv('Data/Checkouts_by_Title_2022_2023.csv', low_memory = False)\n",
    "df.head()"
   ]
  },
  {
   "cell_type": "code",
   "execution_count": 4,
   "metadata": {
    "scrolled": false
   },
   "outputs": [
    {
     "name": "stdout",
     "output_type": "stream",
     "text": [
      "<class 'pandas.core.frame.DataFrame'>\n",
      "RangeIndex: 5207534 entries, 0 to 5207533\n",
      "Data columns (total 12 columns):\n",
      " #   Column           Dtype \n",
      "---  ------           ----- \n",
      " 0   UsageClass       object\n",
      " 1   CheckoutType     object\n",
      " 2   MaterialType     object\n",
      " 3   CheckoutYear     int64 \n",
      " 4   CheckoutMonth    int64 \n",
      " 5   Checkouts        object\n",
      " 6   Title            object\n",
      " 7   ISBN             object\n",
      " 8   Creator          object\n",
      " 9   Subjects         object\n",
      " 10  Publisher        object\n",
      " 11  PublicationYear  object\n",
      "dtypes: int64(2), object(10)\n",
      "memory usage: 476.8+ MB\n"
     ]
    }
   ],
   "source": [
    "df.info()"
   ]
  },
  {
   "cell_type": "code",
   "execution_count": 5,
   "metadata": {
    "scrolled": true
   },
   "outputs": [
    {
     "data": {
      "text/plain": [
       "BOOK                                          2061373\n",
       "EBOOK                                         1679018\n",
       "AUDIOBOOK                                      889842\n",
       "VIDEODISC                                      313940\n",
       "SOUNDDISC                                      225249\n",
       "REGPRINT                                        15694\n",
       "MUSIC                                            7673\n",
       "LARGEPRINT                                       4576\n",
       "SOUNDDISC, VIDEODISC                             2024\n",
       "ER, SOUNDREC                                     1443\n",
       "SOUNDREC                                         1054\n",
       "ER                                                933\n",
       "CR                                                905\n",
       "MAP                                               702\n",
       "VIDEO                                             699\n",
       "ATLAS                                             430\n",
       "ER, SOUNDDISC                                     429\n",
       "ER, VIDEODISC                                     391\n",
       "VISUAL                                            370\n",
       "MIXED                                             233\n",
       "UNSPECIFIED                                       211\n",
       "MUSICSNDREC                                        48\n",
       "VIDEOCASS                                          47\n",
       "REGPRINT, SOUNDDISC                                30\n",
       "REGPRINT, VIDEOREC                                 24\n",
       "NOTATEDMUSIC                                       22\n",
       "VIDEOREC                                           22\n",
       "ER, NONPROJGRAPH                                   21\n",
       "MICROFORM                                          21\n",
       "SOUNDDISC, SOUNDREC                                18\n",
       "ER, SOUNDDISC, SOUNDREC                            17\n",
       "SOUNDCASS                                          13\n",
       "VIDEOCART                                           7\n",
       "FLASHCARD, SOUNDDISC                                7\n",
       "PHOTO                                               6\n",
       "ER, MAP                                             5\n",
       "BOOK, ER                                            5\n",
       "KIT                                                 5\n",
       "PRINT                                               4\n",
       "ER, PRINT                                           3\n",
       "SOUNDCASS, SOUNDDISC                                3\n",
       "FLASHCARD                                           2\n",
       "ER, REGPRINT                                        2\n",
       "COMPFILE                                            2\n",
       "SOUNDDISC, VIDEOCASS                                2\n",
       "SLIDE, SOUNDCASS                                    1\n",
       "GLOBE                                               1\n",
       "PICTURE                                             1\n",
       "NONPROJGRAPH                                        1\n",
       "SLIDE                                               1\n",
       "REMOTESEN                                           1\n",
       "MAP, VIEW                                           1\n",
       "SOUNDCASS, SOUNDDISC, VIDEOCASS, VIDEODISC          1\n",
       "ER, VIDEOREC                                        1\n",
       "Name: MaterialType, dtype: int64"
      ]
     },
     "execution_count": 5,
     "metadata": {},
     "output_type": "execute_result"
    }
   ],
   "source": [
    "df['MaterialType'].value_counts()"
   ]
  },
  {
   "cell_type": "markdown",
   "metadata": {},
   "source": [
    "Filtering data to only physical books and digital books, LARGEPRINT is books that were printed in a larger font size to accomodate people with low vision. Upon looking at REGPRINT, they are physical books."
   ]
  },
  {
   "cell_type": "code",
   "execution_count": 6,
   "metadata": {},
   "outputs": [
    {
     "data": {
      "text/html": [
       "<div>\n",
       "<style scoped>\n",
       "    .dataframe tbody tr th:only-of-type {\n",
       "        vertical-align: middle;\n",
       "    }\n",
       "\n",
       "    .dataframe tbody tr th {\n",
       "        vertical-align: top;\n",
       "    }\n",
       "\n",
       "    .dataframe thead th {\n",
       "        text-align: right;\n",
       "    }\n",
       "</style>\n",
       "<table border=\"1\" class=\"dataframe\">\n",
       "  <thead>\n",
       "    <tr style=\"text-align: right;\">\n",
       "      <th></th>\n",
       "      <th>UsageClass</th>\n",
       "      <th>CheckoutType</th>\n",
       "      <th>MaterialType</th>\n",
       "      <th>CheckoutYear</th>\n",
       "      <th>CheckoutMonth</th>\n",
       "      <th>Checkouts</th>\n",
       "      <th>Title</th>\n",
       "      <th>ISBN</th>\n",
       "      <th>Creator</th>\n",
       "      <th>Subjects</th>\n",
       "      <th>Publisher</th>\n",
       "      <th>PublicationYear</th>\n",
       "    </tr>\n",
       "  </thead>\n",
       "  <tbody>\n",
       "    <tr>\n",
       "      <th>0</th>\n",
       "      <td>Physical</td>\n",
       "      <td>Horizon</td>\n",
       "      <td>BOOK</td>\n",
       "      <td>2022</td>\n",
       "      <td>9</td>\n",
       "      <td>6</td>\n",
       "      <td>Great day for up! Pictures by Quentin Blake.</td>\n",
       "      <td>0394829131, 0394929136</td>\n",
       "      <td>Seuss, Dr.</td>\n",
       "      <td>Stories in rhyme</td>\n",
       "      <td>Beginner Books,</td>\n",
       "      <td>[1974]</td>\n",
       "    </tr>\n",
       "    <tr>\n",
       "      <th>1</th>\n",
       "      <td>Digital</td>\n",
       "      <td>OverDrive</td>\n",
       "      <td>EBOOK</td>\n",
       "      <td>2022</td>\n",
       "      <td>9</td>\n",
       "      <td>3</td>\n",
       "      <td>The Flame and the Flower</td>\n",
       "      <td>9780061743696</td>\n",
       "      <td>Kathleen E. Woodiwiss</td>\n",
       "      <td>Fiction, Romance, Historical Fiction</td>\n",
       "      <td>HarperCollins Publishers Inc.</td>\n",
       "      <td>2006</td>\n",
       "    </tr>\n",
       "    <tr>\n",
       "      <th>2</th>\n",
       "      <td>Digital</td>\n",
       "      <td>OverDrive</td>\n",
       "      <td>EBOOK</td>\n",
       "      <td>2022</td>\n",
       "      <td>9</td>\n",
       "      <td>8</td>\n",
       "      <td>Fifty Words for Rain: A Novel</td>\n",
       "      <td>9781524746377</td>\n",
       "      <td>Asha Lemmie</td>\n",
       "      <td>Fiction, Literature, Historical Fiction</td>\n",
       "      <td>Penguin Group (USA), Inc.</td>\n",
       "      <td>2020</td>\n",
       "    </tr>\n",
       "    <tr>\n",
       "      <th>3</th>\n",
       "      <td>Physical</td>\n",
       "      <td>Horizon</td>\n",
       "      <td>BOOK</td>\n",
       "      <td>2022</td>\n",
       "      <td>9</td>\n",
       "      <td>5</td>\n",
       "      <td>How to code a rollercoaster / by Josh Funk ; illustrated by Sara Palacios ; foreword by Reshma Saujani.</td>\n",
       "      <td>0425292037, 9780425292037</td>\n",
       "      <td>Funk, Josh</td>\n",
       "      <td>Amusement parks Juvenile fiction, Computer programming Juvenile fiction, Robots Juvenile fiction</td>\n",
       "      <td>Viking,</td>\n",
       "      <td>[2019]</td>\n",
       "    </tr>\n",
       "    <tr>\n",
       "      <th>4</th>\n",
       "      <td>Digital</td>\n",
       "      <td>OverDrive</td>\n",
       "      <td>EBOOK</td>\n",
       "      <td>2022</td>\n",
       "      <td>9</td>\n",
       "      <td>1</td>\n",
       "      <td>How to Be Yourself: Quiet Your Inner Critic and Rise Above Social Anxiety</td>\n",
       "      <td>9781250122230</td>\n",
       "      <td>Ellen Hendriksen</td>\n",
       "      <td>Psychology, Self-Improvement, Nonfiction, Self Help</td>\n",
       "      <td>Macmillan Publishers</td>\n",
       "      <td>2018</td>\n",
       "    </tr>\n",
       "  </tbody>\n",
       "</table>\n",
       "</div>"
      ],
      "text/plain": [
       "  UsageClass CheckoutType MaterialType  CheckoutYear  CheckoutMonth Checkouts  \\\n",
       "0   Physical      Horizon         BOOK          2022              9         6   \n",
       "1    Digital    OverDrive        EBOOK          2022              9         3   \n",
       "2    Digital    OverDrive        EBOOK          2022              9         8   \n",
       "3   Physical      Horizon         BOOK          2022              9         5   \n",
       "4    Digital    OverDrive        EBOOK          2022              9         1   \n",
       "\n",
       "                                                                                                     Title  \\\n",
       "0                                                             Great day for up! Pictures by Quentin Blake.   \n",
       "1                                                                                 The Flame and the Flower   \n",
       "2                                                                            Fifty Words for Rain: A Novel   \n",
       "3  How to code a rollercoaster / by Josh Funk ; illustrated by Sara Palacios ; foreword by Reshma Saujani.   \n",
       "4                                How to Be Yourself: Quiet Your Inner Critic and Rise Above Social Anxiety   \n",
       "\n",
       "                        ISBN                Creator  \\\n",
       "0     0394829131, 0394929136             Seuss, Dr.   \n",
       "1              9780061743696  Kathleen E. Woodiwiss   \n",
       "2              9781524746377            Asha Lemmie   \n",
       "3  0425292037, 9780425292037             Funk, Josh   \n",
       "4              9781250122230       Ellen Hendriksen   \n",
       "\n",
       "                                                                                           Subjects  \\\n",
       "0                                                                                  Stories in rhyme   \n",
       "1                                                              Fiction, Romance, Historical Fiction   \n",
       "2                                                           Fiction, Literature, Historical Fiction   \n",
       "3  Amusement parks Juvenile fiction, Computer programming Juvenile fiction, Robots Juvenile fiction   \n",
       "4                                               Psychology, Self-Improvement, Nonfiction, Self Help   \n",
       "\n",
       "                       Publisher PublicationYear  \n",
       "0                Beginner Books,          [1974]  \n",
       "1  HarperCollins Publishers Inc.            2006  \n",
       "2      Penguin Group (USA), Inc.            2020  \n",
       "3                        Viking,          [2019]  \n",
       "4           Macmillan Publishers            2018  "
      ]
     },
     "execution_count": 6,
     "metadata": {},
     "output_type": "execute_result"
    }
   ],
   "source": [
    "df.drop(df[~df['MaterialType'].isin(['BOOK', 'EBOOK', 'LARGEPRINT', 'REGPRINT'])].index, inplace=True)\n",
    "df.reset_index(drop=True, inplace=True)\n",
    "df.head()"
   ]
  },
  {
   "cell_type": "code",
   "execution_count": 7,
   "metadata": {
    "scrolled": true
   },
   "outputs": [
    {
     "data": {
      "text/html": [
       "<div>\n",
       "<style scoped>\n",
       "    .dataframe tbody tr th:only-of-type {\n",
       "        vertical-align: middle;\n",
       "    }\n",
       "\n",
       "    .dataframe tbody tr th {\n",
       "        vertical-align: top;\n",
       "    }\n",
       "\n",
       "    .dataframe thead th {\n",
       "        text-align: right;\n",
       "    }\n",
       "</style>\n",
       "<table border=\"1\" class=\"dataframe\">\n",
       "  <thead>\n",
       "    <tr style=\"text-align: right;\">\n",
       "      <th></th>\n",
       "      <th>UsageClass</th>\n",
       "      <th>Checkouts</th>\n",
       "      <th>Title</th>\n",
       "      <th>ISBN</th>\n",
       "      <th>Creator</th>\n",
       "      <th>Subjects</th>\n",
       "      <th>Publisher</th>\n",
       "      <th>PublicationYear</th>\n",
       "      <th>CheckoutDate</th>\n",
       "    </tr>\n",
       "  </thead>\n",
       "  <tbody>\n",
       "    <tr>\n",
       "      <th>0</th>\n",
       "      <td>Physical</td>\n",
       "      <td>6</td>\n",
       "      <td>Great day for up! Pictures by Quentin Blake.</td>\n",
       "      <td>0394829131, 0394929136</td>\n",
       "      <td>Seuss, Dr.</td>\n",
       "      <td>Stories in rhyme</td>\n",
       "      <td>Beginner Books,</td>\n",
       "      <td>[1974]</td>\n",
       "      <td>2022-09-01</td>\n",
       "    </tr>\n",
       "    <tr>\n",
       "      <th>1</th>\n",
       "      <td>Digital</td>\n",
       "      <td>3</td>\n",
       "      <td>The Flame and the Flower</td>\n",
       "      <td>9780061743696</td>\n",
       "      <td>Kathleen E. Woodiwiss</td>\n",
       "      <td>Fiction, Romance, Historical Fiction</td>\n",
       "      <td>HarperCollins Publishers Inc.</td>\n",
       "      <td>2006</td>\n",
       "      <td>2022-09-01</td>\n",
       "    </tr>\n",
       "    <tr>\n",
       "      <th>2</th>\n",
       "      <td>Digital</td>\n",
       "      <td>8</td>\n",
       "      <td>Fifty Words for Rain: A Novel</td>\n",
       "      <td>9781524746377</td>\n",
       "      <td>Asha Lemmie</td>\n",
       "      <td>Fiction, Literature, Historical Fiction</td>\n",
       "      <td>Penguin Group (USA), Inc.</td>\n",
       "      <td>2020</td>\n",
       "      <td>2022-09-01</td>\n",
       "    </tr>\n",
       "    <tr>\n",
       "      <th>3</th>\n",
       "      <td>Physical</td>\n",
       "      <td>5</td>\n",
       "      <td>How to code a rollercoaster / by Josh Funk ; illustrated by Sara Palacios ; foreword by Reshma Saujani.</td>\n",
       "      <td>0425292037, 9780425292037</td>\n",
       "      <td>Funk, Josh</td>\n",
       "      <td>Amusement parks Juvenile fiction, Computer programming Juvenile fiction, Robots Juvenile fiction</td>\n",
       "      <td>Viking,</td>\n",
       "      <td>[2019]</td>\n",
       "      <td>2022-09-01</td>\n",
       "    </tr>\n",
       "    <tr>\n",
       "      <th>4</th>\n",
       "      <td>Digital</td>\n",
       "      <td>1</td>\n",
       "      <td>How to Be Yourself: Quiet Your Inner Critic and Rise Above Social Anxiety</td>\n",
       "      <td>9781250122230</td>\n",
       "      <td>Ellen Hendriksen</td>\n",
       "      <td>Psychology, Self-Improvement, Nonfiction, Self Help</td>\n",
       "      <td>Macmillan Publishers</td>\n",
       "      <td>2018</td>\n",
       "      <td>2022-09-01</td>\n",
       "    </tr>\n",
       "  </tbody>\n",
       "</table>\n",
       "</div>"
      ],
      "text/plain": [
       "  UsageClass Checkouts  \\\n",
       "0   Physical         6   \n",
       "1    Digital         3   \n",
       "2    Digital         8   \n",
       "3   Physical         5   \n",
       "4    Digital         1   \n",
       "\n",
       "                                                                                                     Title  \\\n",
       "0                                                             Great day for up! Pictures by Quentin Blake.   \n",
       "1                                                                                 The Flame and the Flower   \n",
       "2                                                                            Fifty Words for Rain: A Novel   \n",
       "3  How to code a rollercoaster / by Josh Funk ; illustrated by Sara Palacios ; foreword by Reshma Saujani.   \n",
       "4                                How to Be Yourself: Quiet Your Inner Critic and Rise Above Social Anxiety   \n",
       "\n",
       "                        ISBN                Creator  \\\n",
       "0     0394829131, 0394929136             Seuss, Dr.   \n",
       "1              9780061743696  Kathleen E. Woodiwiss   \n",
       "2              9781524746377            Asha Lemmie   \n",
       "3  0425292037, 9780425292037             Funk, Josh   \n",
       "4              9781250122230       Ellen Hendriksen   \n",
       "\n",
       "                                                                                           Subjects  \\\n",
       "0                                                                                  Stories in rhyme   \n",
       "1                                                              Fiction, Romance, Historical Fiction   \n",
       "2                                                           Fiction, Literature, Historical Fiction   \n",
       "3  Amusement parks Juvenile fiction, Computer programming Juvenile fiction, Robots Juvenile fiction   \n",
       "4                                               Psychology, Self-Improvement, Nonfiction, Self Help   \n",
       "\n",
       "                       Publisher PublicationYear CheckoutDate  \n",
       "0                Beginner Books,          [1974]   2022-09-01  \n",
       "1  HarperCollins Publishers Inc.            2006   2022-09-01  \n",
       "2      Penguin Group (USA), Inc.            2020   2022-09-01  \n",
       "3                        Viking,          [2019]   2022-09-01  \n",
       "4           Macmillan Publishers            2018   2022-09-01  "
      ]
     },
     "execution_count": 7,
     "metadata": {},
     "output_type": "execute_result"
    }
   ],
   "source": [
    "# Combine 'CheckoutYear' and 'CheckoutMonth' into a datetime column and dropping unnecessary columns \n",
    "\n",
    "df['CheckoutDate'] = pd.to_datetime(df['CheckoutYear'].astype(str) + '-' + \n",
    "                                    df['CheckoutMonth'].astype(str), format='%Y-%m')\n",
    "df.drop(['CheckoutYear', 'CheckoutMonth', 'CheckoutType', 'MaterialType'], axis=1, inplace = True)\n",
    "df.head()"
   ]
  },
  {
   "cell_type": "code",
   "execution_count": 8,
   "metadata": {
    "scrolled": false
   },
   "outputs": [
    {
     "name": "stdout",
     "output_type": "stream",
     "text": [
      "<class 'pandas.core.frame.DataFrame'>\n",
      "RangeIndex: 3760661 entries, 0 to 3760660\n",
      "Data columns (total 9 columns):\n",
      " #   Column           Dtype         \n",
      "---  ------           -----         \n",
      " 0   UsageClass       object        \n",
      " 1   Checkouts        object        \n",
      " 2   Title            object        \n",
      " 3   ISBN             object        \n",
      " 4   Creator          object        \n",
      " 5   Subjects         object        \n",
      " 6   Publisher        object        \n",
      " 7   PublicationYear  object        \n",
      " 8   CheckoutDate     datetime64[ns]\n",
      "dtypes: datetime64[ns](1), object(8)\n",
      "memory usage: 258.2+ MB\n"
     ]
    }
   ],
   "source": [
    "df.info()"
   ]
  },
  {
   "cell_type": "code",
   "execution_count": 9,
   "metadata": {},
   "outputs": [],
   "source": [
    "# Changing the Checkouts column to be numeric instead of a string\n",
    "\n",
    "df['Checkouts'] = df['Checkouts'].str.replace(',', '').astype(int)"
   ]
  },
  {
   "cell_type": "code",
   "execution_count": 10,
   "metadata": {
    "scrolled": true
   },
   "outputs": [
    {
     "data": {
      "text/plain": [
       "UsageClass              0\n",
       "Checkouts               0\n",
       "Title                   0\n",
       "ISBN               639454\n",
       "Creator            101247\n",
       "Subjects            27281\n",
       "Publisher           12668\n",
       "PublicationYear     12323\n",
       "CheckoutDate            0\n",
       "dtype: int64"
      ]
     },
     "execution_count": 10,
     "metadata": {},
     "output_type": "execute_result"
    }
   ],
   "source": [
    "# Checking how many null values in each column \n",
    "\n",
    "df.isnull().sum()"
   ]
  },
  {
   "cell_type": "code",
   "execution_count": 11,
   "metadata": {},
   "outputs": [],
   "source": [
    "# Drop rows where 'Creator' column is null\n",
    "df.dropna(subset=['Creator'], inplace=True)"
   ]
  },
  {
   "cell_type": "code",
   "execution_count": 12,
   "metadata": {},
   "outputs": [],
   "source": [
    "# Clean and standardize PublicationYear column (leaves only year in YYYY format)\n",
    "\n",
    "df['PublicationYear'] = df['PublicationYear'].str.extract(r'(\\d{4})')"
   ]
  },
  {
   "cell_type": "code",
   "execution_count": 13,
   "metadata": {},
   "outputs": [],
   "source": [
    "# Replace any missing publication years with 0000 \n",
    "\n",
    "df['PublicationYear'].fillna(\"0000\", inplace=True)"
   ]
  },
  {
   "cell_type": "code",
   "execution_count": 14,
   "metadata": {},
   "outputs": [
    {
     "data": {
      "image/png": "[encoded data removed]",
      "text/plain": [
       "<Figure size 720x432 with 1 Axes>"
      ]
     },
     "metadata": {
      "needs_background": "light"
     },
     "output_type": "display_data"
    }
   ],
   "source": [
    "# Grouping by month and looking at the number of checkouts per month\n",
    "\n",
    "monthly_checkouts = df.groupby(df['CheckoutDate'].dt.to_period('M')).size()\n",
    "\n",
    "plt.figure(figsize=(10, 6))\n",
    "plt.plot(monthly_checkouts.index.to_timestamp(), monthly_checkouts.values, marker='o', linestyle='-')\n",
    "plt.title('Monthly Library Checkouts')\n",
    "plt.xlabel('Checkout Date')\n",
    "plt.ylabel('Number of Checkouts')\n",
    "plt.grid(True)\n",
    "plt.xticks()\n",
    "plt.tight_layout()\n",
    "plt.show()"
   ]
  },
  {
   "cell_type": "code",
   "execution_count": 15,
   "metadata": {
    "scrolled": false
   },
   "outputs": [
    {
     "data": {
      "text/plain": [
       "James Patterson            5573\n",
       "Patterson, James, 1947-    4197\n",
       "Nora Roberts               3706\n",
       "Geronimo Stilton           3479\n",
       "DK                         3263\n",
       "Name: Creator, dtype: int64"
      ]
     },
     "execution_count": 15,
     "metadata": {},
     "output_type": "execute_result"
    }
   ],
   "source": [
    "df['Creator'].value_counts().head()"
   ]
  },
  {
   "cell_type": "code",
   "execution_count": 16,
   "metadata": {},
   "outputs": [],
   "source": [
    "# Standardizing the 'Creator' column so all authors names are in the same format\n",
    "\n",
    "def standardize_creator(name):\n",
    "    if isinstance(name, str):  # Check if the value is a string\n",
    "        # Remove any additional information in parentheses\n",
    "        if '(' in name and ')' in name:\n",
    "            name = name.split(' (')[0]  # Extract primary name\n",
    "        # Remove numbers\n",
    "        name = re.sub(r'\\d+', '', name)\n",
    "        # Remove dashes if not part of a hyphenated name\n",
    "        name = re.sub(r'(?<![a-zA-Z0-9])-|-(?![a-zA-Z0-9])', '', name)\n",
    "        # If the name is in the format \"Last, First\"\n",
    "        if ',' in name:\n",
    "            parts = name.split(',')\n",
    "            # If there is a comma after the first name\n",
    "            if len(parts) > 2:\n",
    "                name = parts[0] + ',' + ''.join(parts[1:])\n",
    "            return name.strip()\n",
    "        # If the name is in the format \"First Last\"\n",
    "        elif ' ' in name:\n",
    "            parts = name.split(' ')\n",
    "            last = parts[-1]  # Last word is considered as the last name\n",
    "            first = ' '.join(parts[:-1])  # Join the remaining as first name\n",
    "            return f\"{last}, {first}\"\n",
    "        else:\n",
    "            return name.strip()\n",
    "    else:\n",
    "        return name\n",
    "\n",
    "# Applying the function to standardize the 'Creator' column and replacing any null values\n",
    "\n",
    "df['Creator'] = df['Creator'].apply(standardize_creator)\n",
    "# df['Creator'].fillna('Unknown', inplace = True)"
   ]
  },
  {
   "cell_type": "code",
   "execution_count": 17,
   "metadata": {
    "scrolled": true
   },
   "outputs": [
    {
     "data": {
      "text/plain": [
       "Patterson, James      9770\n",
       "Stilton, Geronimo     5903\n",
       "Hunter, Erin          5179\n",
       "Christie, Agatha      4959\n",
       "Osborne, Mary Pope    4801\n",
       "Name: Creator, dtype: int64"
      ]
     },
     "execution_count": 17,
     "metadata": {},
     "output_type": "execute_result"
    }
   ],
   "source": [
    "# Sanity check to make sure function ran correctly \n",
    "\n",
    "df['Creator'].value_counts().head()"
   ]
  },
  {
   "cell_type": "code",
   "execution_count": 18,
   "metadata": {},
   "outputs": [],
   "source": [
    "# Changing Creators names to be in the format firstname lastname and removing any punctuation\n",
    "\n",
    "df['Creator'] = df['Creator'].apply(lambda x: ' '.join(x.split(',')[::-1]).strip())\n",
    "df['Creator'] = df['Creator'].str.replace(r'[^\\w\\s.]', '')"
   ]
  },
  {
   "cell_type": "code",
   "execution_count": 19,
   "metadata": {
    "scrolled": false
   },
   "outputs": [
    {
     "data": {
      "text/html": [
       "<div>\n",
       "<style scoped>\n",
       "    .dataframe tbody tr th:only-of-type {\n",
       "        vertical-align: middle;\n",
       "    }\n",
       "\n",
       "    .dataframe tbody tr th {\n",
       "        vertical-align: top;\n",
       "    }\n",
       "\n",
       "    .dataframe thead th {\n",
       "        text-align: right;\n",
       "    }\n",
       "</style>\n",
       "<table border=\"1\" class=\"dataframe\">\n",
       "  <thead>\n",
       "    <tr style=\"text-align: right;\">\n",
       "      <th></th>\n",
       "      <th>UsageClass</th>\n",
       "      <th>Checkouts</th>\n",
       "      <th>Title</th>\n",
       "      <th>ISBN</th>\n",
       "      <th>Creator</th>\n",
       "      <th>Subjects</th>\n",
       "      <th>Publisher</th>\n",
       "      <th>PublicationYear</th>\n",
       "      <th>CheckoutDate</th>\n",
       "    </tr>\n",
       "  </thead>\n",
       "  <tbody>\n",
       "    <tr>\n",
       "      <th>0</th>\n",
       "      <td>Physical</td>\n",
       "      <td>6</td>\n",
       "      <td>Great day for up! Pictures by Quentin Blake.</td>\n",
       "      <td>0394829131, 0394929136</td>\n",
       "      <td>Dr. Seuss</td>\n",
       "      <td>Stories in rhyme</td>\n",
       "      <td>Beginner Books,</td>\n",
       "      <td>1974</td>\n",
       "      <td>2022-09-01</td>\n",
       "    </tr>\n",
       "    <tr>\n",
       "      <th>1</th>\n",
       "      <td>Digital</td>\n",
       "      <td>3</td>\n",
       "      <td>The Flame and the Flower</td>\n",
       "      <td>9780061743696</td>\n",
       "      <td>Kathleen E. Woodiwiss</td>\n",
       "      <td>Fiction, Romance, Historical Fiction</td>\n",
       "      <td>HarperCollins Publishers Inc.</td>\n",
       "      <td>2006</td>\n",
       "      <td>2022-09-01</td>\n",
       "    </tr>\n",
       "    <tr>\n",
       "      <th>2</th>\n",
       "      <td>Digital</td>\n",
       "      <td>8</td>\n",
       "      <td>Fifty Words for Rain: A Novel</td>\n",
       "      <td>9781524746377</td>\n",
       "      <td>Asha Lemmie</td>\n",
       "      <td>Fiction, Literature, Historical Fiction</td>\n",
       "      <td>Penguin Group (USA), Inc.</td>\n",
       "      <td>2020</td>\n",
       "      <td>2022-09-01</td>\n",
       "    </tr>\n",
       "    <tr>\n",
       "      <th>3</th>\n",
       "      <td>Physical</td>\n",
       "      <td>5</td>\n",
       "      <td>How to code a rollercoaster / by Josh Funk ; illustrated by Sara Palacios ; foreword by Reshma Saujani.</td>\n",
       "      <td>0425292037, 9780425292037</td>\n",
       "      <td>Josh Funk</td>\n",
       "      <td>Amusement parks Juvenile fiction, Computer programming Juvenile fiction, Robots Juvenile fiction</td>\n",
       "      <td>Viking,</td>\n",
       "      <td>2019</td>\n",
       "      <td>2022-09-01</td>\n",
       "    </tr>\n",
       "    <tr>\n",
       "      <th>4</th>\n",
       "      <td>Digital</td>\n",
       "      <td>1</td>\n",
       "      <td>How to Be Yourself: Quiet Your Inner Critic and Rise Above Social Anxiety</td>\n",
       "      <td>9781250122230</td>\n",
       "      <td>Ellen Hendriksen</td>\n",
       "      <td>Psychology, Self-Improvement, Nonfiction, Self Help</td>\n",
       "      <td>Macmillan Publishers</td>\n",
       "      <td>2018</td>\n",
       "      <td>2022-09-01</td>\n",
       "    </tr>\n",
       "  </tbody>\n",
       "</table>\n",
       "</div>"
      ],
      "text/plain": [
       "  UsageClass  Checkouts  \\\n",
       "0   Physical          6   \n",
       "1    Digital          3   \n",
       "2    Digital          8   \n",
       "3   Physical          5   \n",
       "4    Digital          1   \n",
       "\n",
       "                                                                                                     Title  \\\n",
       "0                                                             Great day for up! Pictures by Quentin Blake.   \n",
       "1                                                                                 The Flame and the Flower   \n",
       "2                                                                            Fifty Words for Rain: A Novel   \n",
       "3  How to code a rollercoaster / by Josh Funk ; illustrated by Sara Palacios ; foreword by Reshma Saujani.   \n",
       "4                                How to Be Yourself: Quiet Your Inner Critic and Rise Above Social Anxiety   \n",
       "\n",
       "                        ISBN                Creator  \\\n",
       "0     0394829131, 0394929136              Dr. Seuss   \n",
       "1              9780061743696  Kathleen E. Woodiwiss   \n",
       "2              9781524746377            Asha Lemmie   \n",
       "3  0425292037, 9780425292037              Josh Funk   \n",
       "4              9781250122230       Ellen Hendriksen   \n",
       "\n",
       "                                                                                           Subjects  \\\n",
       "0                                                                                  Stories in rhyme   \n",
       "1                                                              Fiction, Romance, Historical Fiction   \n",
       "2                                                           Fiction, Literature, Historical Fiction   \n",
       "3  Amusement parks Juvenile fiction, Computer programming Juvenile fiction, Robots Juvenile fiction   \n",
       "4                                               Psychology, Self-Improvement, Nonfiction, Self Help   \n",
       "\n",
       "                       Publisher PublicationYear CheckoutDate  \n",
       "0                Beginner Books,            1974   2022-09-01  \n",
       "1  HarperCollins Publishers Inc.            2006   2022-09-01  \n",
       "2      Penguin Group (USA), Inc.            2020   2022-09-01  \n",
       "3                        Viking,            2019   2022-09-01  \n",
       "4           Macmillan Publishers            2018   2022-09-01  "
      ]
     },
     "execution_count": 19,
     "metadata": {},
     "output_type": "execute_result"
    }
   ],
   "source": [
    "df.head()"
   ]
  },
  {
   "cell_type": "code",
   "execution_count": 20,
   "metadata": {},
   "outputs": [
    {
     "name": "stdout",
     "output_type": "stream",
     "text": [
      "<class 'pandas.core.frame.DataFrame'>\n",
      "Int64Index: 3659414 entries, 0 to 3760660\n",
      "Data columns (total 9 columns):\n",
      " #   Column           Dtype         \n",
      "---  ------           -----         \n",
      " 0   UsageClass       object        \n",
      " 1   Checkouts        int64         \n",
      " 2   Title            object        \n",
      " 3   ISBN             object        \n",
      " 4   Creator          object        \n",
      " 5   Subjects         object        \n",
      " 6   Publisher        object        \n",
      " 7   PublicationYear  object        \n",
      " 8   CheckoutDate     datetime64[ns]\n",
      "dtypes: datetime64[ns](1), int64(1), object(7)\n",
      "memory usage: 279.2+ MB\n"
     ]
    }
   ],
   "source": [
    "df.info()\n"
   ]
  },
  {
   "cell_type": "code",
   "execution_count": 21,
   "metadata": {},
   "outputs": [],
   "source": [
    "df['Title'] = df['Title'].apply(lambda x: re.split(r'/(?!\\d)', x)[0])\n"
   ]
  },
  {
   "cell_type": "code",
   "execution_count": 22,
   "metadata": {},
   "outputs": [],
   "source": [
    "df['Title'] = df['Title'].str.replace(r'[^\\w\\s-]', '')\n"
   ]
  },
  {
   "cell_type": "code",
   "execution_count": 23,
   "metadata": {},
   "outputs": [],
   "source": [
    "# Replace multiple hyphens with one space\n",
    "df['Title'] = df['Title'].str.replace(r'(-)+', ' ')"
   ]
  },
  {
   "cell_type": "code",
   "execution_count": 24,
   "metadata": {},
   "outputs": [],
   "source": [
    "# Remove \"A Novel\" from the 'Title' column\n",
    "df['Title'] = df['Title'].str.replace(r'(?i)\\bA Novel\\b', '')\n",
    "\n",
    "# Remove leading and trailing whitespaces from the 'Title' column\n",
    "df['Title'] = df['Title'].str.strip()\n",
    "\n",
    "# Capitalize only the first letter in each word in the 'Title' column\n",
    "df['Title'] = df['Title'].str.title()"
   ]
  },
  {
   "cell_type": "code",
   "execution_count": 25,
   "metadata": {},
   "outputs": [
    {
     "data": {
      "text/plain": [
       "0                                  Great Day For Up Pictures By Quentin Blake\n",
       "1                                                    The Flame And The Flower\n",
       "2                                                        Fifty Words For Rain\n",
       "3                                                 How To Code A Rollercoaster\n",
       "4    How To Be Yourself Quiet Your Inner Critic And Rise Above Social Anxiety\n",
       "Name: Title, dtype: object"
      ]
     },
     "execution_count": 25,
     "metadata": {},
     "output_type": "execute_result"
    }
   ],
   "source": [
    "df['Title'].head()"
   ]
  },
  {
   "cell_type": "code",
   "execution_count": 26,
   "metadata": {
    "scrolled": false
   },
   "outputs": [
    {
     "name": "stdout",
     "output_type": "stream",
     "text": [
      "<class 'pandas.core.frame.DataFrame'>\n",
      "Int64Index: 3659414 entries, 0 to 3760660\n",
      "Data columns (total 9 columns):\n",
      " #   Column           Dtype         \n",
      "---  ------           -----         \n",
      " 0   UsageClass       object        \n",
      " 1   Checkouts        int64         \n",
      " 2   Title            object        \n",
      " 3   ISBN             object        \n",
      " 4   Creator          object        \n",
      " 5   Subjects         object        \n",
      " 6   Publisher        object        \n",
      " 7   PublicationYear  object        \n",
      " 8   CheckoutDate     datetime64[ns]\n",
      "dtypes: datetime64[ns](1), int64(1), object(7)\n",
      "memory usage: 279.2+ MB\n"
     ]
    }
   ],
   "source": [
    "df.info()"
   ]
  },
  {
   "cell_type": "code",
   "execution_count": 27,
   "metadata": {},
   "outputs": [
    {
     "data": {
      "image/png": "[encoded data removed]",
      "text/plain": [
       "<Figure size 864x432 with 1 Axes>"
      ]
     },
     "metadata": {
      "needs_background": "light"
     },
     "output_type": "display_data"
    }
   ],
   "source": [
    "# Grouping data by 'Creator' and calculating total checkouts for each creator\n",
    "creator_checkouts = df.groupby('Creator')['Checkouts'].sum().reset_index()\n",
    "\n",
    "# Sorting creators by total checkouts in descending order\n",
    "creator_checkouts = creator_checkouts.sort_values(by='Checkouts', ascending=False)\n",
    "\n",
    "# Plotting the distribution of checkouts for top creators\n",
    "plt.figure(figsize=(12, 6))\n",
    "top_creators = creator_checkouts.head(20)  # Top 10 creators\n",
    "sns.barplot(x='Checkouts', y='Creator', data=top_creators, palette='viridis')\n",
    "plt.title('Top 10 Creators by Checkouts')\n",
    "plt.xlabel('Total Checkouts')\n",
    "plt.ylabel('Creator')\n",
    "plt.show()"
   ]
  },
  {
   "cell_type": "code",
   "execution_count": 28,
   "metadata": {},
   "outputs": [
    {
     "data": {
      "text/html": [
       "<div>\n",
       "<style scoped>\n",
       "    .dataframe tbody tr th:only-of-type {\n",
       "        vertical-align: middle;\n",
       "    }\n",
       "\n",
       "    .dataframe tbody tr th {\n",
       "        vertical-align: top;\n",
       "    }\n",
       "\n",
       "    .dataframe thead th {\n",
       "        text-align: right;\n",
       "    }\n",
       "</style>\n",
       "<table border=\"1\" class=\"dataframe\">\n",
       "  <thead>\n",
       "    <tr style=\"text-align: right;\">\n",
       "      <th></th>\n",
       "      <th>Creator</th>\n",
       "      <th>Checkouts</th>\n",
       "    </tr>\n",
       "  </thead>\n",
       "  <tbody>\n",
       "    <tr>\n",
       "      <th>98160</th>\n",
       "      <td>Mo Willems</td>\n",
       "      <td>53639</td>\n",
       "    </tr>\n",
       "    <tr>\n",
       "      <th>28945</th>\n",
       "      <td>Dav Pilkey</td>\n",
       "      <td>49917</td>\n",
       "    </tr>\n",
       "    <tr>\n",
       "      <th>25549</th>\n",
       "      <td>Colleen Hoover</td>\n",
       "      <td>34120</td>\n",
       "    </tr>\n",
       "    <tr>\n",
       "      <th>57077</th>\n",
       "      <td>James Patterson</td>\n",
       "      <td>32385</td>\n",
       "    </tr>\n",
       "    <tr>\n",
       "      <th>60159</th>\n",
       "      <td>Jeff Kinney</td>\n",
       "      <td>31773</td>\n",
       "    </tr>\n",
       "    <tr>\n",
       "      <th>...</th>\n",
       "      <td>...</td>\n",
       "      <td>...</td>\n",
       "    </tr>\n",
       "    <tr>\n",
       "      <th>84145</th>\n",
       "      <td>Louis William Steinwedel</td>\n",
       "      <td>1</td>\n",
       "    </tr>\n",
       "    <tr>\n",
       "      <th>57264</th>\n",
       "      <td>James Sully</td>\n",
       "      <td>1</td>\n",
       "    </tr>\n",
       "    <tr>\n",
       "      <th>57261</th>\n",
       "      <td>James Stuart</td>\n",
       "      <td>1</td>\n",
       "    </tr>\n",
       "    <tr>\n",
       "      <th>109262</th>\n",
       "      <td>Prole</td>\n",
       "      <td>1</td>\n",
       "    </tr>\n",
       "    <tr>\n",
       "      <th>107526</th>\n",
       "      <td>Peter Pezzelli</td>\n",
       "      <td>1</td>\n",
       "    </tr>\n",
       "  </tbody>\n",
       "</table>\n",
       "<p>143734 rows × 2 columns</p>\n",
       "</div>"
      ],
      "text/plain": [
       "                         Creator  Checkouts\n",
       "98160                 Mo Willems      53639\n",
       "28945                 Dav Pilkey      49917\n",
       "25549             Colleen Hoover      34120\n",
       "57077            James Patterson      32385\n",
       "60159                Jeff Kinney      31773\n",
       "...                          ...        ...\n",
       "84145   Louis William Steinwedel          1\n",
       "57264                James Sully          1\n",
       "57261               James Stuart          1\n",
       "109262                     Prole          1\n",
       "107526            Peter Pezzelli          1\n",
       "\n",
       "[143734 rows x 2 columns]"
      ]
     },
     "execution_count": 28,
     "metadata": {},
     "output_type": "execute_result"
    }
   ],
   "source": [
    "creator_checkouts"
   ]
  },
  {
   "cell_type": "code",
   "execution_count": 29,
   "metadata": {},
   "outputs": [
    {
     "data": {
      "text/plain": [
       "James Patterson       9770\n",
       "Geronimo Stilton      5903\n",
       "Erin Hunter           5179\n",
       "Agatha Christie       4959\n",
       "Mary Pope Osborne     4801\n",
       "                      ... \n",
       "E.C. Frey                1\n",
       "Chris Larsgaard          1\n",
       "Lawrence D. Graham       1\n",
       "亨利斯莱萨                    1\n",
       "Kazuko Sashida           1\n",
       "Name: Creator, Length: 143734, dtype: int64"
      ]
     },
     "execution_count": 29,
     "metadata": {},
     "output_type": "execute_result"
    }
   ],
   "source": [
    "df['Creator'].value_counts()"
   ]
  },
  {
   "cell_type": "code",
   "execution_count": 33,
   "metadata": {},
   "outputs": [
    {
     "data": {
      "image/png": "[encoded data removed]",
      "text/plain": [
       "<Figure size 864x432 with 1 Axes>"
      ]
     },
     "metadata": {
      "needs_background": "light"
     },
     "output_type": "display_data"
    }
   ],
   "source": [
    "# Grouping data by 'Title' and calculating total checkouts for each title\n",
    "title_creator_checkouts = df.groupby(['Title', 'Creator'])['Checkouts'].sum().reset_index()\n",
    "\n",
    "# Sorting creators by total checkouts in descending order\n",
    "title_creator_checkouts = title_creator_checkouts.sort_values(by='Checkouts', ascending=False)\n",
    "\n",
    "\n",
    "# Plotting the distribution of checkouts for top titles\n",
    "plt.figure(figsize=(12, 6))\n",
    "top_titles = title_creator_checkouts.head(10)  # Top 10 titles\n",
    "sns.barplot(x='Checkouts', y='Title', data=top_titles, palette='viridis')\n",
    "plt.title('Top Titles by Checkouts')\n",
    "plt.xlabel('Total Checkouts')\n",
    "plt.ylabel('Title')\n",
    "plt.show()"
   ]
  },
  {
   "cell_type": "code",
   "execution_count": 35,
   "metadata": {},
   "outputs": [
    {
     "data": {
      "text/html": [
       "<div>\n",
       "<style scoped>\n",
       "    .dataframe tbody tr th:only-of-type {\n",
       "        vertical-align: middle;\n",
       "    }\n",
       "\n",
       "    .dataframe tbody tr th {\n",
       "        vertical-align: top;\n",
       "    }\n",
       "\n",
       "    .dataframe thead th {\n",
       "        text-align: right;\n",
       "    }\n",
       "</style>\n",
       "<table border=\"1\" class=\"dataframe\">\n",
       "  <thead>\n",
       "    <tr style=\"text-align: right;\">\n",
       "      <th></th>\n",
       "      <th>Title</th>\n",
       "      <th>Creator</th>\n",
       "      <th>Checkouts</th>\n",
       "    </tr>\n",
       "  </thead>\n",
       "  <tbody>\n",
       "    <tr>\n",
       "      <th>173539</th>\n",
       "      <td>Lessons In Chemistry</td>\n",
       "      <td>Bonnie Garmus</td>\n",
       "      <td>17002</td>\n",
       "    </tr>\n",
       "    <tr>\n",
       "      <th>380950</th>\n",
       "      <td>Tomorrow And Tomorrow And Tomorrow</td>\n",
       "      <td>Gabrielle Zevin</td>\n",
       "      <td>13655</td>\n",
       "    </tr>\n",
       "    <tr>\n",
       "      <th>66920</th>\n",
       "      <td>Cloud Cuckoo Land</td>\n",
       "      <td>Anthony Doerr</td>\n",
       "      <td>11833</td>\n",
       "    </tr>\n",
       "    <tr>\n",
       "      <th>362629</th>\n",
       "      <td>The Swimmers</td>\n",
       "      <td>Julie Otsuka</td>\n",
       "      <td>10626</td>\n",
       "    </tr>\n",
       "    <tr>\n",
       "      <th>49567</th>\n",
       "      <td>Book Lovers</td>\n",
       "      <td>Emily Henry</td>\n",
       "      <td>8861</td>\n",
       "    </tr>\n",
       "    <tr>\n",
       "      <th>150038</th>\n",
       "      <td>Im Glad My Mom Died</td>\n",
       "      <td>Jennette McCurdy</td>\n",
       "      <td>8622</td>\n",
       "    </tr>\n",
       "    <tr>\n",
       "      <th>392776</th>\n",
       "      <td>Verity</td>\n",
       "      <td>Colleen Hoover</td>\n",
       "      <td>8266</td>\n",
       "    </tr>\n",
       "    <tr>\n",
       "      <th>335457</th>\n",
       "      <td>The Maid</td>\n",
       "      <td>Nita Prose</td>\n",
       "      <td>8252</td>\n",
       "    </tr>\n",
       "    <tr>\n",
       "      <th>255115</th>\n",
       "      <td>Sea Of Tranquility</td>\n",
       "      <td>Emily St. John Mandel</td>\n",
       "      <td>8135</td>\n",
       "    </tr>\n",
       "    <tr>\n",
       "      <th>356650</th>\n",
       "      <td>The Seven Husbands Of Evelyn Hugo</td>\n",
       "      <td>Taylor Jenkins Reid</td>\n",
       "      <td>7982</td>\n",
       "    </tr>\n",
       "  </tbody>\n",
       "</table>\n",
       "</div>"
      ],
      "text/plain": [
       "                                     Title                Creator  Checkouts\n",
       "173539                Lessons In Chemistry          Bonnie Garmus      17002\n",
       "380950  Tomorrow And Tomorrow And Tomorrow        Gabrielle Zevin      13655\n",
       "66920                    Cloud Cuckoo Land          Anthony Doerr      11833\n",
       "362629                        The Swimmers           Julie Otsuka      10626\n",
       "49567                          Book Lovers            Emily Henry       8861\n",
       "150038                 Im Glad My Mom Died       Jennette McCurdy       8622\n",
       "392776                              Verity         Colleen Hoover       8266\n",
       "335457                            The Maid             Nita Prose       8252\n",
       "255115                  Sea Of Tranquility  Emily St. John Mandel       8135\n",
       "356650   The Seven Husbands Of Evelyn Hugo    Taylor Jenkins Reid       7982"
      ]
     },
     "execution_count": 35,
     "metadata": {},
     "output_type": "execute_result"
    }
   ],
   "source": [
    "title_creator_checkouts.head(10)"
   ]
  },
  {
   "cell_type": "code",
   "execution_count": 34,
   "metadata": {},
   "outputs": [
    {
     "data": {
      "image/png": "[encoded data removed]",
      "text/plain": [
       "<Figure size 864x576 with 1 Axes>"
      ]
     },
     "metadata": {
      "needs_background": "light"
     },
     "output_type": "display_data"
    }
   ],
   "source": [
    "# Define a list of top titles\n",
    "top_titles_list = title_creator_checkouts.head(10)['Title'].tolist()\n",
    "\n",
    "# Filter the dataframe to include only the top titles\n",
    "top_titles_df = df[df['Title'].isin(top_titles_list)]\n",
    "\n",
    "# Group by 'Title', 'CheckoutDate' and sum up the checkouts\n",
    "title_monthly_checkouts = top_titles_df.groupby(['Title', df['CheckoutDate'].dt.to_period('M')])['Checkouts'].sum().reset_index()\n",
    "\n",
    "# Plot checkout trends for each top title\n",
    "plt.figure(figsize=(12, 8))\n",
    "for title in top_titles_list:\n",
    "    title_data = title_monthly_checkouts[title_monthly_checkouts['Title'] == title]\n",
    "    plt.plot(title_data['CheckoutDate'].dt.to_timestamp(), title_data['Checkouts'], label=title, marker='o')\n",
    "\n",
    "plt.title('Monthly Checkout Trends for Top Titles')\n",
    "plt.xlabel('Month')\n",
    "plt.ylabel('Number of Checkouts')\n",
    "plt.legend()\n",
    "plt.grid(True)\n",
    "plt.xticks(rotation=45)\n",
    "plt.tight_layout()\n",
    "plt.show()"
   ]
  },
  {
   "cell_type": "code",
   "execution_count": null,
   "metadata": {},
   "outputs": [],
   "source": []
  },
  {
   "cell_type": "code",
   "execution_count": null,
   "metadata": {},
   "outputs": [],
   "source": []
  },
  {
   "cell_type": "code",
   "execution_count": null,
   "metadata": {},
   "outputs": [],
   "source": []
  }
 ],
 "metadata": {
  "kernelspec": {
   "display_name": "Python (learn-env)\n\n",
   "language": "python",
   "name": "learn-env"
  },
  "language_info": {
   "codemirror_mode": {
    "name": "ipython",
    "version": 3
   },
   "file_extension": ".py",
   "mimetype": "text/x-python",
   "name": "python",
   "nbconvert_exporter": "python",
   "pygments_lexer": "ipython3",
   "version": "3.8.5"
  }
 },
 "nbformat": 4,
 "nbformat_minor": 4
}
