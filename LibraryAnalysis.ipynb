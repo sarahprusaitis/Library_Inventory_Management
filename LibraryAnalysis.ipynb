{
 "cells": [
  {
   "cell_type": "markdown",
   "metadata": {},
   "source": [
    "add photo here - maybe of books? or a library card? "
   ]
  },
  {
   "cell_type": "markdown",
   "metadata": {},
   "source": [
    "# A Data-driven Approach for Library Inventory\n",
    "### Author: Sarah Prusaitis"
   ]
  },
  {
   "cell_type": "markdown",
   "metadata": {},
   "source": [
    "## Project Overview\n",
    "\n",
    "This project aims to enhance inventory management at the Seattle Public Library by leveraging historical checkout data of both physical and digital books. By analyzing trends and patterns in the dataset spanning 2022-2023, the project seeks to provide actionable recommendations for optimizing the library's collection. Through predictive modeling, it aims to forecast future demand for various titles, enabling the library to better allocate resources and meet the needs of its patrons efficiently."
   ]
  },
  {
   "cell_type": "markdown",
   "metadata": {},
   "source": [
    "## Business Understanding\n",
    "\n",
    "The primary objective of this project is to assist the Seattle Public Library in optimizing its inventory management system. By analyzing historical checkout data, the project aims to address the challenge of efficiently allocating resources for physical and digital book collections. The library's stakeholders seek insights into trends and preferences among its patrons to anticipate future demand accurately. Through predictive analytics, the project will deliver actionable recommendations to XYZ ( still deciding )"
   ]
  },
  {
   "cell_type": "markdown",
   "metadata": {},
   "source": [
    "## Data Understanding\n",
    "\n",
    "The dataset provided by The Seattle Public Library comprises 5.21 million rows and 12 columns, documenting the checkout records of both physical and electronic items over the years 2022 and 2023. Each row represents the number of checkouts for a specific title in a given month of the year. With this rich dataset, the project endeavors to understand the borrowing patterns of library users and identify key factors influencing the demand for books in both formats."
   ]
  },
  {
   "cell_type": "code",
   "execution_count": 1,
   "metadata": {},
   "outputs": [],
   "source": [
    "#import needed packages\n",
    "\n",
    "import pandas as pd\n",
    "import numpy as np\n",
    "import matplotlib.pyplot as plt\n",
    "import seaborn as sns\n",
    "import re"
   ]
  },
  {
   "cell_type": "code",
   "execution_count": 2,
   "metadata": {},
   "outputs": [
    {
     "data": {
      "text/html": [
       "<div>\n",
       "<style scoped>\n",
       "    .dataframe tbody tr th:only-of-type {\n",
       "        vertical-align: middle;\n",
       "    }\n",
       "\n",
       "    .dataframe tbody tr th {\n",
       "        vertical-align: top;\n",
       "    }\n",
       "\n",
       "    .dataframe thead th {\n",
       "        text-align: right;\n",
       "    }\n",
       "</style>\n",
       "<table border=\"1\" class=\"dataframe\">\n",
       "  <thead>\n",
       "    <tr style=\"text-align: right;\">\n",
       "      <th></th>\n",
       "      <th>UsageClass</th>\n",
       "      <th>CheckoutType</th>\n",
       "      <th>MaterialType</th>\n",
       "      <th>CheckoutYear</th>\n",
       "      <th>CheckoutMonth</th>\n",
       "      <th>Checkouts</th>\n",
       "      <th>Title</th>\n",
       "      <th>ISBN</th>\n",
       "      <th>Creator</th>\n",
       "      <th>Subjects</th>\n",
       "      <th>Publisher</th>\n",
       "      <th>PublicationYear</th>\n",
       "    </tr>\n",
       "  </thead>\n",
       "  <tbody>\n",
       "    <tr>\n",
       "      <th>0</th>\n",
       "      <td>Physical</td>\n",
       "      <td>Horizon</td>\n",
       "      <td>BOOK</td>\n",
       "      <td>2022</td>\n",
       "      <td>9</td>\n",
       "      <td>6</td>\n",
       "      <td>Great day for up! Pictures by Quentin Blake.</td>\n",
       "      <td>0394829131, 0394929136</td>\n",
       "      <td>Seuss, Dr.</td>\n",
       "      <td>Stories in rhyme</td>\n",
       "      <td>Beginner Books,</td>\n",
       "      <td>[1974]</td>\n",
       "    </tr>\n",
       "    <tr>\n",
       "      <th>1</th>\n",
       "      <td>Digital</td>\n",
       "      <td>OverDrive</td>\n",
       "      <td>AUDIOBOOK</td>\n",
       "      <td>2022</td>\n",
       "      <td>9</td>\n",
       "      <td>1</td>\n",
       "      <td>The Scientist and the Spy: A True Story of Chi...</td>\n",
       "      <td>9780593166819</td>\n",
       "      <td>Mara Hvistendahl</td>\n",
       "      <td>Business, Politics, True Crime, Nonfiction</td>\n",
       "      <td>Books on Tape</td>\n",
       "      <td>2020</td>\n",
       "    </tr>\n",
       "    <tr>\n",
       "      <th>2</th>\n",
       "      <td>Digital</td>\n",
       "      <td>OverDrive</td>\n",
       "      <td>EBOOK</td>\n",
       "      <td>2022</td>\n",
       "      <td>9</td>\n",
       "      <td>3</td>\n",
       "      <td>The Flame and the Flower</td>\n",
       "      <td>9780061743696</td>\n",
       "      <td>Kathleen E. Woodiwiss</td>\n",
       "      <td>Fiction, Romance, Historical Fiction</td>\n",
       "      <td>HarperCollins Publishers Inc.</td>\n",
       "      <td>2006</td>\n",
       "    </tr>\n",
       "    <tr>\n",
       "      <th>3</th>\n",
       "      <td>Digital</td>\n",
       "      <td>OverDrive</td>\n",
       "      <td>EBOOK</td>\n",
       "      <td>2022</td>\n",
       "      <td>9</td>\n",
       "      <td>8</td>\n",
       "      <td>Fifty Words for Rain: A Novel</td>\n",
       "      <td>9781524746377</td>\n",
       "      <td>Asha Lemmie</td>\n",
       "      <td>Fiction, Literature, Historical Fiction</td>\n",
       "      <td>Penguin Group (USA), Inc.</td>\n",
       "      <td>2020</td>\n",
       "    </tr>\n",
       "    <tr>\n",
       "      <th>4</th>\n",
       "      <td>Physical</td>\n",
       "      <td>Horizon</td>\n",
       "      <td>BOOK</td>\n",
       "      <td>2022</td>\n",
       "      <td>9</td>\n",
       "      <td>5</td>\n",
       "      <td>How to code a rollercoaster / by Josh Funk ; i...</td>\n",
       "      <td>0425292037, 9780425292037</td>\n",
       "      <td>Funk, Josh</td>\n",
       "      <td>Amusement parks Juvenile fiction, Computer pro...</td>\n",
       "      <td>Viking,</td>\n",
       "      <td>[2019]</td>\n",
       "    </tr>\n",
       "  </tbody>\n",
       "</table>\n",
       "</div>"
      ],
      "text/plain": [
       "  UsageClass CheckoutType MaterialType  CheckoutYear  CheckoutMonth Checkouts  \\\n",
       "0   Physical      Horizon         BOOK          2022              9         6   \n",
       "1    Digital    OverDrive    AUDIOBOOK          2022              9         1   \n",
       "2    Digital    OverDrive        EBOOK          2022              9         3   \n",
       "3    Digital    OverDrive        EBOOK          2022              9         8   \n",
       "4   Physical      Horizon         BOOK          2022              9         5   \n",
       "\n",
       "                                               Title  \\\n",
       "0       Great day for up! Pictures by Quentin Blake.   \n",
       "1  The Scientist and the Spy: A True Story of Chi...   \n",
       "2                           The Flame and the Flower   \n",
       "3                      Fifty Words for Rain: A Novel   \n",
       "4  How to code a rollercoaster / by Josh Funk ; i...   \n",
       "\n",
       "                        ISBN                Creator  \\\n",
       "0     0394829131, 0394929136             Seuss, Dr.   \n",
       "1              9780593166819       Mara Hvistendahl   \n",
       "2              9780061743696  Kathleen E. Woodiwiss   \n",
       "3              9781524746377            Asha Lemmie   \n",
       "4  0425292037, 9780425292037             Funk, Josh   \n",
       "\n",
       "                                            Subjects  \\\n",
       "0                                   Stories in rhyme   \n",
       "1         Business, Politics, True Crime, Nonfiction   \n",
       "2               Fiction, Romance, Historical Fiction   \n",
       "3            Fiction, Literature, Historical Fiction   \n",
       "4  Amusement parks Juvenile fiction, Computer pro...   \n",
       "\n",
       "                       Publisher PublicationYear  \n",
       "0                Beginner Books,          [1974]  \n",
       "1                  Books on Tape            2020  \n",
       "2  HarperCollins Publishers Inc.            2006  \n",
       "3      Penguin Group (USA), Inc.            2020  \n",
       "4                        Viking,          [2019]  "
      ]
     },
     "execution_count": 2,
     "metadata": {},
     "output_type": "execute_result"
    }
   ],
   "source": [
    "# Reading in data and looking at head\n",
    "\n",
    "df = pd.read_csv('Data/Checkouts_by_Title_2022_2023.csv', low_memory = False)\n",
    "df.head()"
   ]
  },
  {
   "cell_type": "code",
   "execution_count": 3,
   "metadata": {
    "scrolled": false
   },
   "outputs": [
    {
     "name": "stdout",
     "output_type": "stream",
     "text": [
      "<class 'pandas.core.frame.DataFrame'>\n",
      "RangeIndex: 5207534 entries, 0 to 5207533\n",
      "Data columns (total 12 columns):\n",
      " #   Column           Dtype \n",
      "---  ------           ----- \n",
      " 0   UsageClass       object\n",
      " 1   CheckoutType     object\n",
      " 2   MaterialType     object\n",
      " 3   CheckoutYear     int64 \n",
      " 4   CheckoutMonth    int64 \n",
      " 5   Checkouts        object\n",
      " 6   Title            object\n",
      " 7   ISBN             object\n",
      " 8   Creator          object\n",
      " 9   Subjects         object\n",
      " 10  Publisher        object\n",
      " 11  PublicationYear  object\n",
      "dtypes: int64(2), object(10)\n",
      "memory usage: 476.8+ MB\n"
     ]
    }
   ],
   "source": [
    "df.info()"
   ]
  },
  {
   "cell_type": "code",
   "execution_count": 4,
   "metadata": {
    "scrolled": true
   },
   "outputs": [
    {
     "data": {
      "text/plain": [
       "BOOK                                          2061373\n",
       "EBOOK                                         1679018\n",
       "AUDIOBOOK                                      889842\n",
       "VIDEODISC                                      313940\n",
       "SOUNDDISC                                      225249\n",
       "REGPRINT                                        15694\n",
       "MUSIC                                            7673\n",
       "LARGEPRINT                                       4576\n",
       "SOUNDDISC, VIDEODISC                             2024\n",
       "ER, SOUNDREC                                     1443\n",
       "SOUNDREC                                         1054\n",
       "ER                                                933\n",
       "CR                                                905\n",
       "MAP                                               702\n",
       "VIDEO                                             699\n",
       "ATLAS                                             430\n",
       "ER, SOUNDDISC                                     429\n",
       "ER, VIDEODISC                                     391\n",
       "VISUAL                                            370\n",
       "MIXED                                             233\n",
       "UNSPECIFIED                                       211\n",
       "MUSICSNDREC                                        48\n",
       "VIDEOCASS                                          47\n",
       "REGPRINT, SOUNDDISC                                30\n",
       "REGPRINT, VIDEOREC                                 24\n",
       "NOTATEDMUSIC                                       22\n",
       "VIDEOREC                                           22\n",
       "ER, NONPROJGRAPH                                   21\n",
       "MICROFORM                                          21\n",
       "SOUNDDISC, SOUNDREC                                18\n",
       "ER, SOUNDDISC, SOUNDREC                            17\n",
       "SOUNDCASS                                          13\n",
       "VIDEOCART                                           7\n",
       "FLASHCARD, SOUNDDISC                                7\n",
       "PHOTO                                               6\n",
       "ER, MAP                                             5\n",
       "BOOK, ER                                            5\n",
       "KIT                                                 5\n",
       "PRINT                                               4\n",
       "ER, PRINT                                           3\n",
       "SOUNDCASS, SOUNDDISC                                3\n",
       "ER, REGPRINT                                        2\n",
       "COMPFILE                                            2\n",
       "FLASHCARD                                           2\n",
       "SOUNDDISC, VIDEOCASS                                2\n",
       "SLIDE, SOUNDCASS                                    1\n",
       "GLOBE                                               1\n",
       "MAP, VIEW                                           1\n",
       "REMOTESEN                                           1\n",
       "ER, VIDEOREC                                        1\n",
       "PICTURE                                             1\n",
       "SOUNDCASS, SOUNDDISC, VIDEOCASS, VIDEODISC          1\n",
       "NONPROJGRAPH                                        1\n",
       "SLIDE                                               1\n",
       "Name: MaterialType, dtype: int64"
      ]
     },
     "execution_count": 4,
     "metadata": {},
     "output_type": "execute_result"
    }
   ],
   "source": [
    "df['MaterialType'].value_counts()"
   ]
  },
  {
   "cell_type": "markdown",
   "metadata": {},
   "source": [
    "Filtering data to only physical books and digital books, LARGEPRINT is books that were printed in a larger font size to accomodate people with low vision. Upon looking at REGPRINT, they are physical books."
   ]
  },
  {
   "cell_type": "code",
   "execution_count": 5,
   "metadata": {},
   "outputs": [
    {
     "data": {
      "text/html": [
       "<div>\n",
       "<style scoped>\n",
       "    .dataframe tbody tr th:only-of-type {\n",
       "        vertical-align: middle;\n",
       "    }\n",
       "\n",
       "    .dataframe tbody tr th {\n",
       "        vertical-align: top;\n",
       "    }\n",
       "\n",
       "    .dataframe thead th {\n",
       "        text-align: right;\n",
       "    }\n",
       "</style>\n",
       "<table border=\"1\" class=\"dataframe\">\n",
       "  <thead>\n",
       "    <tr style=\"text-align: right;\">\n",
       "      <th></th>\n",
       "      <th>UsageClass</th>\n",
       "      <th>CheckoutType</th>\n",
       "      <th>MaterialType</th>\n",
       "      <th>CheckoutYear</th>\n",
       "      <th>CheckoutMonth</th>\n",
       "      <th>Checkouts</th>\n",
       "      <th>Title</th>\n",
       "      <th>ISBN</th>\n",
       "      <th>Creator</th>\n",
       "      <th>Subjects</th>\n",
       "      <th>Publisher</th>\n",
       "      <th>PublicationYear</th>\n",
       "    </tr>\n",
       "  </thead>\n",
       "  <tbody>\n",
       "    <tr>\n",
       "      <th>0</th>\n",
       "      <td>Physical</td>\n",
       "      <td>Horizon</td>\n",
       "      <td>BOOK</td>\n",
       "      <td>2022</td>\n",
       "      <td>9</td>\n",
       "      <td>6</td>\n",
       "      <td>Great day for up! Pictures by Quentin Blake.</td>\n",
       "      <td>0394829131, 0394929136</td>\n",
       "      <td>Seuss, Dr.</td>\n",
       "      <td>Stories in rhyme</td>\n",
       "      <td>Beginner Books,</td>\n",
       "      <td>[1974]</td>\n",
       "    </tr>\n",
       "    <tr>\n",
       "      <th>1</th>\n",
       "      <td>Digital</td>\n",
       "      <td>OverDrive</td>\n",
       "      <td>EBOOK</td>\n",
       "      <td>2022</td>\n",
       "      <td>9</td>\n",
       "      <td>3</td>\n",
       "      <td>The Flame and the Flower</td>\n",
       "      <td>9780061743696</td>\n",
       "      <td>Kathleen E. Woodiwiss</td>\n",
       "      <td>Fiction, Romance, Historical Fiction</td>\n",
       "      <td>HarperCollins Publishers Inc.</td>\n",
       "      <td>2006</td>\n",
       "    </tr>\n",
       "    <tr>\n",
       "      <th>2</th>\n",
       "      <td>Digital</td>\n",
       "      <td>OverDrive</td>\n",
       "      <td>EBOOK</td>\n",
       "      <td>2022</td>\n",
       "      <td>9</td>\n",
       "      <td>8</td>\n",
       "      <td>Fifty Words for Rain: A Novel</td>\n",
       "      <td>9781524746377</td>\n",
       "      <td>Asha Lemmie</td>\n",
       "      <td>Fiction, Literature, Historical Fiction</td>\n",
       "      <td>Penguin Group (USA), Inc.</td>\n",
       "      <td>2020</td>\n",
       "    </tr>\n",
       "    <tr>\n",
       "      <th>3</th>\n",
       "      <td>Physical</td>\n",
       "      <td>Horizon</td>\n",
       "      <td>BOOK</td>\n",
       "      <td>2022</td>\n",
       "      <td>9</td>\n",
       "      <td>5</td>\n",
       "      <td>How to code a rollercoaster / by Josh Funk ; i...</td>\n",
       "      <td>0425292037, 9780425292037</td>\n",
       "      <td>Funk, Josh</td>\n",
       "      <td>Amusement parks Juvenile fiction, Computer pro...</td>\n",
       "      <td>Viking,</td>\n",
       "      <td>[2019]</td>\n",
       "    </tr>\n",
       "    <tr>\n",
       "      <th>4</th>\n",
       "      <td>Digital</td>\n",
       "      <td>OverDrive</td>\n",
       "      <td>EBOOK</td>\n",
       "      <td>2022</td>\n",
       "      <td>9</td>\n",
       "      <td>1</td>\n",
       "      <td>How to Be Yourself: Quiet Your Inner Critic an...</td>\n",
       "      <td>9781250122230</td>\n",
       "      <td>Ellen Hendriksen</td>\n",
       "      <td>Psychology, Self-Improvement, Nonfiction, Self...</td>\n",
       "      <td>Macmillan Publishers</td>\n",
       "      <td>2018</td>\n",
       "    </tr>\n",
       "  </tbody>\n",
       "</table>\n",
       "</div>"
      ],
      "text/plain": [
       "  UsageClass CheckoutType MaterialType  CheckoutYear  CheckoutMonth Checkouts  \\\n",
       "0   Physical      Horizon         BOOK          2022              9         6   \n",
       "1    Digital    OverDrive        EBOOK          2022              9         3   \n",
       "2    Digital    OverDrive        EBOOK          2022              9         8   \n",
       "3   Physical      Horizon         BOOK          2022              9         5   \n",
       "4    Digital    OverDrive        EBOOK          2022              9         1   \n",
       "\n",
       "                                               Title  \\\n",
       "0       Great day for up! Pictures by Quentin Blake.   \n",
       "1                           The Flame and the Flower   \n",
       "2                      Fifty Words for Rain: A Novel   \n",
       "3  How to code a rollercoaster / by Josh Funk ; i...   \n",
       "4  How to Be Yourself: Quiet Your Inner Critic an...   \n",
       "\n",
       "                        ISBN                Creator  \\\n",
       "0     0394829131, 0394929136             Seuss, Dr.   \n",
       "1              9780061743696  Kathleen E. Woodiwiss   \n",
       "2              9781524746377            Asha Lemmie   \n",
       "3  0425292037, 9780425292037             Funk, Josh   \n",
       "4              9781250122230       Ellen Hendriksen   \n",
       "\n",
       "                                            Subjects  \\\n",
       "0                                   Stories in rhyme   \n",
       "1               Fiction, Romance, Historical Fiction   \n",
       "2            Fiction, Literature, Historical Fiction   \n",
       "3  Amusement parks Juvenile fiction, Computer pro...   \n",
       "4  Psychology, Self-Improvement, Nonfiction, Self...   \n",
       "\n",
       "                       Publisher PublicationYear  \n",
       "0                Beginner Books,          [1974]  \n",
       "1  HarperCollins Publishers Inc.            2006  \n",
       "2      Penguin Group (USA), Inc.            2020  \n",
       "3                        Viking,          [2019]  \n",
       "4           Macmillan Publishers            2018  "
      ]
     },
     "execution_count": 5,
     "metadata": {},
     "output_type": "execute_result"
    }
   ],
   "source": [
    "df.drop(df[~df['MaterialType'].isin(['BOOK', 'EBOOK', 'LARGEPRINT', 'REGPRINT'])].index, inplace=True)\n",
    "df.reset_index(drop=True, inplace=True)\n",
    "df.head()"
   ]
  },
  {
   "cell_type": "code",
   "execution_count": 6,
   "metadata": {},
   "outputs": [
    {
     "data": {
      "text/html": [
       "<div>\n",
       "<style scoped>\n",
       "    .dataframe tbody tr th:only-of-type {\n",
       "        vertical-align: middle;\n",
       "    }\n",
       "\n",
       "    .dataframe tbody tr th {\n",
       "        vertical-align: top;\n",
       "    }\n",
       "\n",
       "    .dataframe thead th {\n",
       "        text-align: right;\n",
       "    }\n",
       "</style>\n",
       "<table border=\"1\" class=\"dataframe\">\n",
       "  <thead>\n",
       "    <tr style=\"text-align: right;\">\n",
       "      <th></th>\n",
       "      <th>UsageClass</th>\n",
       "      <th>Checkouts</th>\n",
       "      <th>Title</th>\n",
       "      <th>ISBN</th>\n",
       "      <th>Creator</th>\n",
       "      <th>Subjects</th>\n",
       "      <th>Publisher</th>\n",
       "      <th>PublicationYear</th>\n",
       "      <th>CheckoutDate</th>\n",
       "    </tr>\n",
       "  </thead>\n",
       "  <tbody>\n",
       "    <tr>\n",
       "      <th>0</th>\n",
       "      <td>Physical</td>\n",
       "      <td>6</td>\n",
       "      <td>Great day for up! Pictures by Quentin Blake.</td>\n",
       "      <td>0394829131, 0394929136</td>\n",
       "      <td>Seuss, Dr.</td>\n",
       "      <td>Stories in rhyme</td>\n",
       "      <td>Beginner Books,</td>\n",
       "      <td>[1974]</td>\n",
       "      <td>2022-09-01</td>\n",
       "    </tr>\n",
       "    <tr>\n",
       "      <th>1</th>\n",
       "      <td>Digital</td>\n",
       "      <td>3</td>\n",
       "      <td>The Flame and the Flower</td>\n",
       "      <td>9780061743696</td>\n",
       "      <td>Kathleen E. Woodiwiss</td>\n",
       "      <td>Fiction, Romance, Historical Fiction</td>\n",
       "      <td>HarperCollins Publishers Inc.</td>\n",
       "      <td>2006</td>\n",
       "      <td>2022-09-01</td>\n",
       "    </tr>\n",
       "    <tr>\n",
       "      <th>2</th>\n",
       "      <td>Digital</td>\n",
       "      <td>8</td>\n",
       "      <td>Fifty Words for Rain: A Novel</td>\n",
       "      <td>9781524746377</td>\n",
       "      <td>Asha Lemmie</td>\n",
       "      <td>Fiction, Literature, Historical Fiction</td>\n",
       "      <td>Penguin Group (USA), Inc.</td>\n",
       "      <td>2020</td>\n",
       "      <td>2022-09-01</td>\n",
       "    </tr>\n",
       "    <tr>\n",
       "      <th>3</th>\n",
       "      <td>Physical</td>\n",
       "      <td>5</td>\n",
       "      <td>How to code a rollercoaster / by Josh Funk ; i...</td>\n",
       "      <td>0425292037, 9780425292037</td>\n",
       "      <td>Funk, Josh</td>\n",
       "      <td>Amusement parks Juvenile fiction, Computer pro...</td>\n",
       "      <td>Viking,</td>\n",
       "      <td>[2019]</td>\n",
       "      <td>2022-09-01</td>\n",
       "    </tr>\n",
       "    <tr>\n",
       "      <th>4</th>\n",
       "      <td>Digital</td>\n",
       "      <td>1</td>\n",
       "      <td>How to Be Yourself: Quiet Your Inner Critic an...</td>\n",
       "      <td>9781250122230</td>\n",
       "      <td>Ellen Hendriksen</td>\n",
       "      <td>Psychology, Self-Improvement, Nonfiction, Self...</td>\n",
       "      <td>Macmillan Publishers</td>\n",
       "      <td>2018</td>\n",
       "      <td>2022-09-01</td>\n",
       "    </tr>\n",
       "  </tbody>\n",
       "</table>\n",
       "</div>"
      ],
      "text/plain": [
       "  UsageClass Checkouts                                              Title  \\\n",
       "0   Physical         6       Great day for up! Pictures by Quentin Blake.   \n",
       "1    Digital         3                           The Flame and the Flower   \n",
       "2    Digital         8                      Fifty Words for Rain: A Novel   \n",
       "3   Physical         5  How to code a rollercoaster / by Josh Funk ; i...   \n",
       "4    Digital         1  How to Be Yourself: Quiet Your Inner Critic an...   \n",
       "\n",
       "                        ISBN                Creator  \\\n",
       "0     0394829131, 0394929136             Seuss, Dr.   \n",
       "1              9780061743696  Kathleen E. Woodiwiss   \n",
       "2              9781524746377            Asha Lemmie   \n",
       "3  0425292037, 9780425292037             Funk, Josh   \n",
       "4              9781250122230       Ellen Hendriksen   \n",
       "\n",
       "                                            Subjects  \\\n",
       "0                                   Stories in rhyme   \n",
       "1               Fiction, Romance, Historical Fiction   \n",
       "2            Fiction, Literature, Historical Fiction   \n",
       "3  Amusement parks Juvenile fiction, Computer pro...   \n",
       "4  Psychology, Self-Improvement, Nonfiction, Self...   \n",
       "\n",
       "                       Publisher PublicationYear CheckoutDate  \n",
       "0                Beginner Books,          [1974]   2022-09-01  \n",
       "1  HarperCollins Publishers Inc.            2006   2022-09-01  \n",
       "2      Penguin Group (USA), Inc.            2020   2022-09-01  \n",
       "3                        Viking,          [2019]   2022-09-01  \n",
       "4           Macmillan Publishers            2018   2022-09-01  "
      ]
     },
     "execution_count": 6,
     "metadata": {},
     "output_type": "execute_result"
    }
   ],
   "source": [
    "# Combine 'CheckoutYear' and 'CheckoutMonth' into a datetime column and dropping unnecessary columns \n",
    "\n",
    "df['CheckoutDate'] = pd.to_datetime(df['CheckoutYear'].astype(str) + '-' + \n",
    "                                    df['CheckoutMonth'].astype(str), format='%Y-%m')\n",
    "df.drop(['CheckoutYear', 'CheckoutMonth', 'CheckoutType', 'MaterialType'], axis=1, inplace = True)\n",
    "df.head()"
   ]
  },
  {
   "cell_type": "code",
   "execution_count": 7,
   "metadata": {
    "scrolled": false
   },
   "outputs": [
    {
     "name": "stdout",
     "output_type": "stream",
     "text": [
      "<class 'pandas.core.frame.DataFrame'>\n",
      "RangeIndex: 3760661 entries, 0 to 3760660\n",
      "Data columns (total 9 columns):\n",
      " #   Column           Dtype         \n",
      "---  ------           -----         \n",
      " 0   UsageClass       object        \n",
      " 1   Checkouts        object        \n",
      " 2   Title            object        \n",
      " 3   ISBN             object        \n",
      " 4   Creator          object        \n",
      " 5   Subjects         object        \n",
      " 6   Publisher        object        \n",
      " 7   PublicationYear  object        \n",
      " 8   CheckoutDate     datetime64[ns]\n",
      "dtypes: datetime64[ns](1), object(8)\n",
      "memory usage: 258.2+ MB\n"
     ]
    }
   ],
   "source": [
    "df.info()"
   ]
  },
  {
   "cell_type": "code",
   "execution_count": 8,
   "metadata": {},
   "outputs": [
    {
     "data": {
      "text/plain": [
       "UsageClass              0\n",
       "Checkouts               0\n",
       "Title                   0\n",
       "ISBN               639454\n",
       "Creator            101247\n",
       "Subjects            27281\n",
       "Publisher           12668\n",
       "PublicationYear     12323\n",
       "CheckoutDate            0\n",
       "dtype: int64"
      ]
     },
     "execution_count": 8,
     "metadata": {},
     "output_type": "execute_result"
    }
   ],
   "source": [
    "df.isnull().sum()"
   ]
  },
  {
   "cell_type": "code",
   "execution_count": 9,
   "metadata": {},
   "outputs": [],
   "source": [
    "# Clean and standardize PublicationYear column\n",
    "\n",
    "df['PublicationYear'] = df['PublicationYear'].str.extract(r'(\\d{4})')"
   ]
  },
  {
   "cell_type": "code",
   "execution_count": 10,
   "metadata": {},
   "outputs": [],
   "source": [
    "# Replace any missing publication years with 0000 \n",
    "\n",
    "df['PublicationYear'].fillna(\"0000\", inplace=True)"
   ]
  },
  {
   "cell_type": "code",
   "execution_count": 11,
   "metadata": {},
   "outputs": [
    {
     "data": {
      "text/plain": [
       "2021    401339\n",
       "2022    365971\n",
       "2020    330998\n",
       "2019    286203\n",
       "2018    262590\n",
       "2017    248734\n",
       "2013    229623\n",
       "2016    202126\n",
       "2015    200544\n",
       "2014    189596\n",
       "2011    168017\n",
       "2012    149335\n",
       "2023    142235\n",
       "2010    119878\n",
       "2009     87316\n",
       "2008     61875\n",
       "2007     35521\n",
       "2006     30259\n",
       "2005     30098\n",
       "2004     18153\n",
       "2003     17402\n",
       "2002     15258\n",
       "2001     13878\n",
       "2000     12761\n",
       "0000     12469\n",
       "1999     11093\n",
       "1998      9780\n",
       "1997      8489\n",
       "1996      7740\n",
       "1995      7685\n",
       "1994      6763\n",
       "1993      5668\n",
       "1992      5417\n",
       "1990      4477\n",
       "1991      4413\n",
       "1989      3927\n",
       "1988      3459\n",
       "1987      3180\n",
       "1986      3125\n",
       "1985      2512\n",
       "1984      2035\n",
       "1983      1980\n",
       "1982      1746\n",
       "1981      1622\n",
       "1977      1567\n",
       "1980      1534\n",
       "1978      1531\n",
       "1972      1461\n",
       "1973      1405\n",
       "1979      1390\n",
       "Name: PublicationYear, dtype: int64"
      ]
     },
     "execution_count": 11,
     "metadata": {},
     "output_type": "execute_result"
    }
   ],
   "source": [
    "df['PublicationYear'].value_counts().head(50)"
   ]
  },
  {
   "cell_type": "code",
   "execution_count": 12,
   "metadata": {},
   "outputs": [
    {
     "data": {
      "image/png": "[encoded data removed]",
      "text/plain": [
       "<Figure size 720x432 with 1 Axes>"
      ]
     },
     "metadata": {
      "needs_background": "light"
     },
     "output_type": "display_data"
    }
   ],
   "source": [
    "# Grouping by month and looking at the number of checkouts per month\n",
    "\n",
    "monthly_checkouts = df.groupby(df['CheckoutDate'].dt.to_period('M')).size()\n",
    "\n",
    "plt.figure(figsize=(10, 6))\n",
    "plt.plot(monthly_checkouts.index.to_timestamp(), monthly_checkouts.values, marker='o', linestyle='-')\n",
    "plt.title('Monthly Library Checkouts')\n",
    "plt.xlabel('Checkout Date')\n",
    "plt.ylabel('Number of Checkouts')\n",
    "plt.grid(True)\n",
    "plt.xticks()\n",
    "plt.tight_layout()\n",
    "plt.show()"
   ]
  },
  {
   "cell_type": "code",
   "execution_count": null,
   "metadata": {},
   "outputs": [],
   "source": []
  },
  {
   "cell_type": "code",
   "execution_count": null,
   "metadata": {},
   "outputs": [],
   "source": []
  },
  {
   "cell_type": "code",
   "execution_count": 13,
   "metadata": {
    "scrolled": false
   },
   "outputs": [
    {
     "data": {
      "text/plain": [
       "James Patterson                         5573\n",
       "Patterson, James, 1947-                 4197\n",
       "Nora Roberts                            3706\n",
       "Geronimo Stilton                        3479\n",
       "DK                                      3263\n",
       "Stan Berenstain                         2715\n",
       "Hunter, Erin                            2626\n",
       "Erin Hunter                             2553\n",
       "Agatha Christie                         2535\n",
       "Osborne, Mary Pope                      2485\n",
       "Stilton, Geronimo                       2424\n",
       "Warner, Gertrude Chandler, 1890-1979    2403\n",
       "Mary Pope Osborne                       2316\n",
       "Rylant, Cynthia                         2261\n",
       "Willems, Mo                             2187\n",
       "Stephen King                            2166\n",
       "Christie, Agatha, 1890-1976             2095\n",
       "America's Test Kitchen                  2093\n",
       "Pilkey, Dav, 1966-                      2067\n",
       "Daisy Meadows                           2022\n",
       "Seuss, Dr.                              1970\n",
       "Debbie Macomber                         1937\n",
       "Dan Gutman                              1920\n",
       "Christine Feehan                        1900\n",
       "Louis L'Amour                           1874\n",
       "Name: Creator, dtype: int64"
      ]
     },
     "execution_count": 13,
     "metadata": {},
     "output_type": "execute_result"
    }
   ],
   "source": [
    "df['Creator'].value_counts().head(25)"
   ]
  },
  {
   "cell_type": "code",
   "execution_count": 14,
   "metadata": {},
   "outputs": [],
   "source": [
    "# Standardizing the 'Creator' column so all authors names are in the same format\n",
    "\n",
    "def standardize_creator(name):\n",
    "    if isinstance(name, str):  # Check if the value is a string\n",
    "        # Remove any additional information in parentheses\n",
    "        if '(' in name and ')' in name:\n",
    "            name = name.split(' (')[0]  # Extract primary name\n",
    "        # Remove numbers\n",
    "        name = re.sub(r'\\d+', '', name)\n",
    "        # Remove dashes if not part of a hyphenated name\n",
    "        name = re.sub(r'(?<![a-zA-Z0-9])-|-(?![a-zA-Z0-9])', '', name)\n",
    "        # If the name is in the format \"Last, First\"\n",
    "        if ',' in name:\n",
    "            parts = name.split(',')\n",
    "            # If there is a comma after the first name\n",
    "            if len(parts) > 2:\n",
    "                name = parts[0] + ',' + ''.join(parts[1:])\n",
    "            return name.strip()\n",
    "        # If the name is in the format \"First Last\"\n",
    "        elif ' ' in name:\n",
    "            parts = name.split(' ')\n",
    "            last = parts[-1]  # Last word is considered as the last name\n",
    "            first = ' '.join(parts[:-1])  # Join the remaining as first name\n",
    "            return f\"{last}, {first}\"\n",
    "        else:\n",
    "            return name.strip()\n",
    "    else:\n",
    "        return name\n",
    "\n",
    "# Applying the function to standardize the 'Creator' column\n",
    "\n",
    "df['Creator'] = df['Creator'].apply(standardize_creator)\n",
    "df['Creator'].fillna('Unknown', inplace = True)"
   ]
  },
  {
   "cell_type": "code",
   "execution_count": 16,
   "metadata": {},
   "outputs": [
    {
     "data": {
      "text/plain": [
       "Unknown                      101304\n",
       "Patterson, James               9770\n",
       "Stilton, Geronimo              5903\n",
       "Hunter, Erin                   5179\n",
       "Christie, Agatha               4959\n",
       "Osborne, Mary Pope             4801\n",
       "Warner, Gertrude Chandler      4572\n",
       "Roberts, Nora                  4433\n",
       "Meadows, Daisy                 3777\n",
       "Pilkey, Dav                    3680\n",
       "Berenstain, Stan               3663\n",
       "Gutman, Dan                    3557\n",
       "King, Stephen                  3489\n",
       "DK                             3263\n",
       "Holub, Joan                    3124\n",
       "Seuss, Dr.                     3034\n",
       "Keene, Carolyn                 2931\n",
       "Steel, Danielle                2835\n",
       "Macomber, Debbie               2718\n",
       "Rylant, Cynthia                2648\n",
       "Perry, Anne                    2639\n",
       "Woods, Stuart                  2616\n",
       "Peirce, Lincoln                2590\n",
       "Riordan, Rick                  2404\n",
       "Dean, James                    2388\n",
       "Name: Creator, dtype: int64"
      ]
     },
     "execution_count": 16,
     "metadata": {},
     "output_type": "execute_result"
    }
   ],
   "source": [
    "# Sanity check to make sure function ran correctly \n",
    "\n",
    "df['Creator'].value_counts().head(25)"
   ]
  },
  {
   "cell_type": "code",
   "execution_count": 18,
   "metadata": {},
   "outputs": [],
   "source": [
    "# Clean 'Title' column\n",
    "df['Title'] = df['Title'].apply(lambda x: x.title())"
   ]
  },
  {
   "cell_type": "code",
   "execution_count": null,
   "metadata": {},
   "outputs": [],
   "source": [
    "df.head(50)"
   ]
  },
  {
   "cell_type": "code",
   "execution_count": 1,
   "metadata": {},
   "outputs": [],
   "source": [
    "# Function to remove creator names from titles\n",
    "#def remove_creator_from_title(title, creator):\n",
    "    # If the creator's name is found in the title, remove it\n",
    " #   title = re.sub(re.escape(creator), '', title, flags=re.IGNORECASE)\n",
    "  #  return title.strip()\n",
    "\n",
    "# Iterate over each row and remove creator names from titles\n",
    "#for index, row in df.iterrows():\n",
    "#    df.at[index, 'Title'] = remove_creator_from_title(row['Title'], row['Creator'])\n"
   ]
  },
  {
   "cell_type": "code",
   "execution_count": null,
   "metadata": {},
   "outputs": [],
   "source": []
  },
  {
   "cell_type": "code",
   "execution_count": null,
   "metadata": {},
   "outputs": [],
   "source": []
  },
  {
   "cell_type": "code",
   "execution_count": null,
   "metadata": {},
   "outputs": [],
   "source": []
  },
  {
   "cell_type": "code",
   "execution_count": null,
   "metadata": {},
   "outputs": [],
   "source": [
    "# Grouping by title and counting checkouts\n",
    "checkout_counts_per_title = df.groupby('Title').size().sort_values(ascending=False)"
   ]
  },
  {
   "cell_type": "code",
   "execution_count": null,
   "metadata": {},
   "outputs": [],
   "source": [
    "checkout_counts_per_title.head(50)"
   ]
  },
  {
   "cell_type": "code",
   "execution_count": null,
   "metadata": {},
   "outputs": [],
   "source": [
    "# Select top N titles\n",
    "top_n = 10  # Change this number to get more or fewer top titles\n",
    "top_titles = checkout_counts_per_title.head(top_n)\n",
    "\n",
    "plt.figure(figsize=(12, 6))\n",
    "top_titles.plot(kind='bar', color='skyblue')\n",
    "plt.title('Top {} Titles by Checkouts'.format(top_n))\n",
    "plt.xlabel('Title')\n",
    "plt.ylabel('Number of Checkouts')\n",
    "plt.xticks(rotation=45, ha='right')\n",
    "plt.tight_layout()\n",
    "plt.show()"
   ]
  },
  {
   "cell_type": "code",
   "execution_count": null,
   "metadata": {},
   "outputs": [],
   "source": [
    "df['ISBN'].value_counts().head(20)"
   ]
  }
 ],
 "metadata": {
  "kernelspec": {
   "display_name": "Python (learn-env)\n\n",
   "language": "python",
   "name": "learn-env"
  },
  "language_info": {
   "codemirror_mode": {
    "name": "ipython",
    "version": 3
   },
   "file_extension": ".py",
   "mimetype": "text/x-python",
   "name": "python",
   "nbconvert_exporter": "python",
   "pygments_lexer": "ipython3",
   "version": "3.8.5"
  }
 },
 "nbformat": 4,
 "nbformat_minor": 4
}
